{
 "cells": [
  {
   "cell_type": "code",
   "execution_count": 1,
   "metadata": {
    "ExecuteTime": {
     "end_time": "2021-02-16T05:37:20.097833Z",
     "start_time": "2021-02-16T05:37:17.439315Z"
    }
   },
   "outputs": [],
   "source": [
    "from bs4 import BeautifulSoup\n",
    "import requests\n",
    "import pandas as pd\n",
    "import numpy as np\n",
    "import re"
   ]
  },
  {
   "cell_type": "code",
   "execution_count": 2,
   "metadata": {
    "ExecuteTime": {
     "end_time": "2021-02-16T05:37:20.113828Z",
     "start_time": "2021-02-16T05:37:20.100855Z"
    }
   },
   "outputs": [],
   "source": [
    "main_url='https://www.imdb.com/feature/genre/?ref_=nv_ch_gr'"
   ]
  },
  {
   "cell_type": "code",
   "execution_count": 3,
   "metadata": {
    "ExecuteTime": {
     "end_time": "2021-02-16T05:37:22.199406Z",
     "start_time": "2021-02-16T05:37:20.117826Z"
    }
   },
   "outputs": [],
   "source": [
    "source=requests.get(main_url).text\n",
    "soup=BeautifulSoup(source,'lxml')"
   ]
  },
  {
   "cell_type": "code",
   "execution_count": 4,
   "metadata": {
    "ExecuteTime": {
     "end_time": "2021-02-16T05:37:22.368131Z",
     "start_time": "2021-02-16T05:37:22.206419Z"
    },
    "scrolled": true
   },
   "outputs": [
    {
     "name": "stdout",
     "output_type": "stream",
     "text": [
      "<div class=\"ab_ninja\">\n",
      " <span class=\"widget_header\">\n",
      "  <span class=\"oneline\">\n",
      "   <h3>\n",
      "    Popular TV Show and Movie Genres\n",
      "   </h3>\n",
      "  </span>\n",
      " </span>\n",
      " <div class=\"widget_content no_inline_blurb\">\n",
      "  <div class=\"widget_nested\">\n",
      "   <div class=\"ninja_image_pack\">\n",
      "    <div class=\"ninja_left\">\n",
      "     <div class=\"ninja_image first_image\" style=\"width:31.952%;height:auto;\">\n",
      "      <div style=\"width:100%;height:auto;margin:0 auto;\">\n",
      "       <div class=\"widget_image\">\n",
      "        <div class=\"image\">\n",
      "         <a href=\"https://www.imdb.com/search/title?genres=comedy&amp;explore=title_type,genres\">\n",
      "          <img alt=\"Comedy\" class=\"pri_image\" src=\"https://m.media-amazon.com/images/G/01/IMDb/genres/Comedy._CB1513316167_SX233_CR0,0,233,131_AL_.jpg\" title=\"Comedy\"/>\n",
      "         </a>\n",
      "        </div>\n",
      "       </div>\n",
      "      </div>\n",
      "     </div>\n",
      "     <div class=\"ninja_image ninja_image_relative_padding widget_padding\" style=\"width:2%;\">\n",
      "     </div>\n",
      "     <div class=\"ninja_image\" style=\"width:31.952%;height:auto;\">\n",
      "      <div style=\"width:100%;height:auto;margin:0 auto;\">\n",
      "       <div class=\"widget_image\">\n",
      "        <div class=\"image\">\n",
      "         <a href=\"https://www.imdb.com/search/title?genres=sci-fi&amp;explore=title_type,genres\">\n",
      "          <img alt=\"Sci-Fi\" class=\"pri_image\" src=\"https://m.media-amazon.com/images/G/01/IMDb/genres/Sci-Fi._CB1513316168_SX233_CR0,0,233,131_AL_.jpg\" title=\"Sci-Fi\"/>\n",
      "         </a>\n",
      "        </div>\n",
      "       </div>\n",
      "      </div>\n",
      "     </div>\n",
      "     <div class=\"ninja_image ninja_image_relative_padding widget_padding\" style=\"width:2%;\">\n",
      "     </div>\n",
      "     <div class=\"ninja_image last_image\" style=\"width:31.952%;height:auto;\">\n",
      "      <div style=\"width:100%;height:auto;margin:0 auto;\">\n",
      "       <div class=\"widget_image\">\n",
      "        <div class=\"image\">\n",
      "         <a href=\"https://www.imdb.com/search/title?genres=horror&amp;explore=title_type,genres\">\n",
      "          <img alt=\"Horror\" class=\"pri_image\" src=\"https://m.media-amazon.com/images/G/01/IMDb/genres/Horror._CB1513316168_SX233_CR0,0,233,131_AL_.jpg\" title=\"Horror\"/>\n",
      "         </a>\n",
      "        </div>\n",
      "       </div>\n",
      "      </div>\n",
      "     </div>\n",
      "    </div>\n",
      "   </div>\n",
      "  </div>\n",
      " </div>\n",
      "</div>\n",
      "\n"
     ]
    },
    {
     "ename": "AttributeError",
     "evalue": "'NoneType' object has no attribute 'parent'",
     "output_type": "error",
     "traceback": [
      "\u001b[1;31m---------------------------------------------------------------------------\u001b[0m",
      "\u001b[1;31mAttributeError\u001b[0m                            Traceback (most recent call last)",
      "\u001b[1;32m<ipython-input-4-e04df38a5195>\u001b[0m in \u001b[0;36m<module>\u001b[1;34m\u001b[0m\n\u001b[0;32m      1\u001b[0m \u001b[1;32mfor\u001b[0m \u001b[0mx\u001b[0m \u001b[1;32min\u001b[0m  \u001b[0msoup\u001b[0m\u001b[1;33m.\u001b[0m\u001b[0mfind_all\u001b[0m\u001b[1;33m(\u001b[0m\u001b[1;34m'div'\u001b[0m\u001b[1;33m,\u001b[0m\u001b[0mclass_\u001b[0m\u001b[1;33m=\u001b[0m\u001b[1;34m'article'\u001b[0m\u001b[1;33m)\u001b[0m\u001b[1;33m:\u001b[0m\u001b[1;33m\u001b[0m\u001b[1;33m\u001b[0m\u001b[0m\n\u001b[1;32m----> 2\u001b[1;33m     \u001b[0mprint\u001b[0m\u001b[1;33m(\u001b[0m\u001b[0mx\u001b[0m\u001b[1;33m.\u001b[0m\u001b[0mfind\u001b[0m\u001b[1;33m(\u001b[0m\u001b[1;34m'span'\u001b[0m\u001b[1;33m,\u001b[0m\u001b[0mclass_\u001b[0m\u001b[1;33m=\u001b[0m\u001b[1;34m'oneline'\u001b[0m\u001b[1;33m)\u001b[0m\u001b[1;33m.\u001b[0m\u001b[0mparent\u001b[0m\u001b[1;33m.\u001b[0m\u001b[0mparent\u001b[0m\u001b[1;33m.\u001b[0m\u001b[0mprettify\u001b[0m\u001b[1;33m(\u001b[0m\u001b[1;33m)\u001b[0m\u001b[1;33m)\u001b[0m\u001b[1;33m\u001b[0m\u001b[1;33m\u001b[0m\u001b[0m\n\u001b[0m",
      "\u001b[1;31mAttributeError\u001b[0m: 'NoneType' object has no attribute 'parent'"
     ]
    }
   ],
   "source": [
    "for x in  soup.find_all('div',class_='article'):\n",
    "    print(x.find('span',class_='oneline').parent.parent.prettify())"
   ]
  },
  {
   "cell_type": "code",
   "execution_count": null,
   "metadata": {
    "ExecuteTime": {
     "end_time": "2021-02-16T05:37:22.371109Z",
     "start_time": "2021-02-16T05:37:17.453Z"
    }
   },
   "outputs": [],
   "source": [
    "genre=[]\n",
    "link_page=[]\n",
    "for x in soup.find_all('span',class_='oneline'):\n",
    "    head=x.h3.text\n",
    "    if head==' Popular Movies by Genre':\n",
    "        par=x.parent.parent\n",
    "        for genres in par.find_all('div',class_='table-cell'):\n",
    "            genre.append(genres.a.text.strip())\n",
    "            link_page.append('http://imdb.com'+ genres.a['href'])"
   ]
  },
  {
   "cell_type": "code",
   "execution_count": null,
   "metadata": {
    "ExecuteTime": {
     "end_time": "2021-02-16T05:37:22.374108Z",
     "start_time": "2021-02-16T05:37:17.456Z"
    }
   },
   "outputs": [],
   "source": [
    "df= pd.DataFrame({'genre':genre,'link_page':link_page})"
   ]
  },
  {
   "cell_type": "code",
   "execution_count": null,
   "metadata": {
    "ExecuteTime": {
     "end_time": "2021-02-16T05:37:22.378104Z",
     "start_time": "2021-02-16T05:37:17.458Z"
    }
   },
   "outputs": [],
   "source": [
    "df['genre']=df['genre'].apply(lambda x : '-'.join(x.split(' ')))"
   ]
  },
  {
   "cell_type": "code",
   "execution_count": null,
   "metadata": {
    "ExecuteTime": {
     "end_time": "2021-02-16T05:37:22.382101Z",
     "start_time": "2021-02-16T05:37:17.463Z"
    },
    "scrolled": true
   },
   "outputs": [],
   "source": [
    "df"
   ]
  },
  {
   "cell_type": "markdown",
   "metadata": {},
   "source": [
    "<b> removing 'super hero' genre as it needs to be handled alone </b>"
   ]
  },
  {
   "cell_type": "code",
   "execution_count": null,
   "metadata": {
    "ExecuteTime": {
     "end_time": "2021-02-16T05:37:22.385100Z",
     "start_time": "2021-02-16T05:37:17.467Z"
    },
    "scrolled": true
   },
   "outputs": [],
   "source": [
    "df_super=df[df['genre']=='Superhero']"
   ]
  },
  {
   "cell_type": "code",
   "execution_count": null,
   "metadata": {
    "ExecuteTime": {
     "end_time": "2021-02-16T05:37:22.388099Z",
     "start_time": "2021-02-16T05:37:17.469Z"
    }
   },
   "outputs": [],
   "source": [
    "df_super"
   ]
  },
  {
   "cell_type": "code",
   "execution_count": null,
   "metadata": {
    "ExecuteTime": {
     "end_time": "2021-02-16T05:37:22.390097Z",
     "start_time": "2021-02-16T05:37:17.472Z"
    },
    "scrolled": true
   },
   "outputs": [],
   "source": [
    "indexNames = df[df['genre']=='Superhero'].index\n",
    "# Delete these row indexes from dataFrame\n",
    "df.drop(indexNames , inplace=True)\n",
    "df=df.drop_duplicates()\n",
    "df=df.reset_index(drop=True)"
   ]
  },
  {
   "cell_type": "code",
   "execution_count": null,
   "metadata": {
    "ExecuteTime": {
     "end_time": "2021-02-16T05:37:22.392098Z",
     "start_time": "2021-02-16T05:37:17.474Z"
    },
    "scrolled": true
   },
   "outputs": [],
   "source": [
    "df"
   ]
  },
  {
   "cell_type": "markdown",
   "metadata": {},
   "source": [
    "### Get and parse a page"
   ]
  },
  {
   "cell_type": "code",
   "execution_count": null,
   "metadata": {
    "ExecuteTime": {
     "end_time": "2021-02-16T05:37:22.395094Z",
     "start_time": "2021-02-16T05:37:17.478Z"
    }
   },
   "outputs": [],
   "source": [
    "def getpage(url):\n",
    "    source=requests.get(url).text\n",
    "    soup=BeautifulSoup(source,'lxml')\n",
    "    return(soup)"
   ]
  },
  {
   "cell_type": "markdown",
   "metadata": {},
   "source": [
    "### To get all movie title codes in a single page"
   ]
  },
  {
   "cell_type": "code",
   "execution_count": null,
   "metadata": {
    "ExecuteTime": {
     "end_time": "2021-02-16T05:37:22.398093Z",
     "start_time": "2021-02-16T05:37:17.483Z"
    },
    "scrolled": true
   },
   "outputs": [],
   "source": [
    "def get_titlecodes_from_page(url):\n",
    "    lst1=[] \n",
    "    soup=getpage(url)\n",
    "    for x in soup.find_all('div',class_='lister-item mode-advanced'):\n",
    "        lst1.append(x.a['href'].split('/')[-2])\n",
    "    return(lst1)   "
   ]
  },
  {
   "cell_type": "markdown",
   "metadata": {},
   "source": [
    "### Getting for a single genre"
   ]
  },
  {
   "cell_type": "code",
   "execution_count": null,
   "metadata": {
    "ExecuteTime": {
     "end_time": "2021-02-16T05:37:22.400093Z",
     "start_time": "2021-02-16T05:37:17.486Z"
    }
   },
   "outputs": [],
   "source": [
    "df['link_page'][22]"
   ]
  },
  {
   "cell_type": "code",
   "execution_count": null,
   "metadata": {
    "ExecuteTime": {
     "end_time": "2021-02-16T05:37:22.403089Z",
     "start_time": "2021-02-16T05:37:17.490Z"
    }
   },
   "outputs": [],
   "source": [
    "url = df['link_page'][22]\n",
    "soup = getpage(url)\n",
    "lst2 = []\n",
    "lst2 = get_titlecodes_from_page(url)\n",
    "pages2 = soup.find('div', class_='desc').span.text.split(' ')\n",
    "total2 = int(''.join(pages2[-2].split(',')))\n",
    "looptimes2 = int(total2/50)\n",
    "for pg in range(looptimes2):\n",
    "    nexturl2 = 'https://www.imdb.com/search/title/?title_type=feature&genres='+df['genre'][22]+'&start=' + \\\n",
    "        str((pg+1)*50+1)+'&explore=genres&ref_=adv_nxt'\n",
    "    lst2.extend(get_titlecodes_from_page(nexturl2))"
   ]
  },
  {
   "cell_type": "code",
   "execution_count": null,
   "metadata": {
    "ExecuteTime": {
     "end_time": "2021-02-16T05:37:22.405089Z",
     "start_time": "2021-02-16T05:37:17.493Z"
    }
   },
   "outputs": [],
   "source": [
    "len(lst2)"
   ]
  },
  {
   "cell_type": "markdown",
   "metadata": {},
   "source": [
    "### getting codes for all genre"
   ]
  },
  {
   "cell_type": "code",
   "execution_count": null,
   "metadata": {
    "ExecuteTime": {
     "end_time": "2021-02-16T05:37:22.407092Z",
     "start_time": "2021-02-16T05:37:17.496Z"
    }
   },
   "outputs": [],
   "source": [
    "df['codes']=0\n",
    "df['titles_cont']=0"
   ]
  },
  {
   "cell_type": "code",
   "execution_count": null,
   "metadata": {
    "ExecuteTime": {
     "end_time": "2021-02-16T05:37:22.409086Z",
     "start_time": "2021-02-16T05:37:17.500Z"
    }
   },
   "outputs": [],
   "source": [
    "all_codes=[]\n",
    "for num in range(df.shape[0]):\n",
    "    url = df['link_page'][num]\n",
    "    soup = getpage(url)\n",
    "    lst = []\n",
    "    lst = get_titlecodes_from_page(url)\n",
    "    pages = soup.find('div', class_='desc').span.text.split(' ')\n",
    "    total = int(''.join(pages[-2].split(',')))\n",
    "    looptimes = int(total/50)\n",
    "    for pg in range(looptimes):\n",
    "        nexturl = 'https://www.imdb.com/search/title/?title_type=feature&genres=' + \\\n",
    "            df['genre'][num]+'&start=' + \\\n",
    "            str((pg+1)*50+1)+'&explore=genres&ref_=adv_nxt'\n",
    "        lst.extend(get_titlecodes_from_page(nexturl))\n",
    "        all_codes.extend(lst)\n",
    "        df['codes'][num] = lst\n",
    "        df['titles_cont'][num] = len(lst)"
   ]
  },
  {
   "cell_type": "code",
   "execution_count": null,
   "metadata": {
    "ExecuteTime": {
     "end_time": "2021-02-16T05:37:22.412085Z",
     "start_time": "2021-02-16T05:37:17.505Z"
    },
    "scrolled": true
   },
   "outputs": [],
   "source": [
    "df[['genre','titles_cont']]"
   ]
  },
  {
   "cell_type": "markdown",
   "metadata": {},
   "source": [
    "### saving csv file"
   ]
  },
  {
   "cell_type": "code",
   "execution_count": null,
   "metadata": {
    "ExecuteTime": {
     "end_time": "2021-02-16T05:37:22.415085Z",
     "start_time": "2021-02-16T05:37:17.509Z"
    }
   },
   "outputs": [],
   "source": [
    "df.to_csv('IMDb_movies_codes1.csv',index=False)"
   ]
  },
  {
   "cell_type": "code",
   "execution_count": null,
   "metadata": {
    "ExecuteTime": {
     "end_time": "2021-02-16T05:37:22.418084Z",
     "start_time": "2021-02-16T05:37:17.512Z"
    }
   },
   "outputs": [],
   "source": [
    "df1=pd.DataFrame({'codes':all_codes})\n",
    "df1.to_csv('IMDB_movie_all_codes.csv',index=False)"
   ]
  },
  {
   "cell_type": "code",
   "execution_count": null,
   "metadata": {},
   "outputs": [],
   "source": []
  }
 ],
 "metadata": {
  "kernelspec": {
   "display_name": "Python 3",
   "language": "python",
   "name": "python3"
  },
  "language_info": {
   "codemirror_mode": {
    "name": "ipython",
    "version": 3
   },
   "file_extension": ".py",
   "mimetype": "text/x-python",
   "name": "python",
   "nbconvert_exporter": "python",
   "pygments_lexer": "ipython3",
   "version": "3.7.4"
  },
  "toc": {
   "base_numbering": 1,
   "nav_menu": {},
   "number_sections": true,
   "sideBar": true,
   "skip_h1_title": false,
   "title_cell": "Table of Contents",
   "title_sidebar": "Contents",
   "toc_cell": false,
   "toc_position": {},
   "toc_section_display": true,
   "toc_window_display": true
  }
 },
 "nbformat": 4,
 "nbformat_minor": 2
}
